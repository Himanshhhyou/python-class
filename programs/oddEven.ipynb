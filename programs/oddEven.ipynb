{
 "cells": [
  {
   "cell_type": "markdown",
   "metadata": {},
   "source": [
    "# Odd & Even number check"
   ]
  },
  {
   "cell_type": "code",
   "execution_count": null,
   "metadata": {},
   "outputs": [],
   "source": [
    "def is_oddEven(num):\n",
    "    return True if num % 2 == 0 else False\n",
    "\n",
    "num = int(input('Enter the number: '))\n",
    "msg1 = 'is an Even Number'\n",
    "msg2 = 'is an Odd Number'\n",
    "print(num, msg1) if is_oddEven(num) else print(num, msg2)\n",
    "    "
   ]
  },
  {
   "cell_type": "markdown",
   "metadata": {},
   "source": [
    "## Series of odd and even numbers"
   ]
  },
  {
   "cell_type": "code",
   "execution_count": null,
   "metadata": {},
   "outputs": [],
   "source": [
    "for i in range(1,11):\n",
    "    print(i, msg1) if is_oddEven(i) else print(i,msg2)"
   ]
  },
  {
   "cell_type": "code",
   "execution_count": null,
   "metadata": {},
   "outputs": [],
   "source": [
    "def oddSeries(n):\n",
    "    for i in range(n+1):\n",
    "        print(i) if is_oddEven(i) else None\n",
    "\n",
    "def evenSeries(n):\n",
    "    for i in range(n+1):\n",
    "        None if is_oddEven(i) else print(i)"
   ]
  },
  {
   "cell_type": "code",
   "execution_count": null,
   "metadata": {},
   "outputs": [],
   "source": [
    "choice = input('Which type of series you want to generate(odd/even): ')\n",
    "choice = choice.lower()\n",
    "n = int(input('Enter the number upto you want to generate series: '))\n",
    "oddSeries(n) if choice == 'odd' else evenSeries(n)\n"
   ]
  },
  {
   "cell_type": "code",
   "execution_count": null,
   "metadata": {},
   "outputs": [],
   "source": []
  }
 ],
 "metadata": {
  "kernelspec": {
   "display_name": "Python 3",
   "language": "python",
   "name": "python3"
  },
  "language_info": {
   "codemirror_mode": {
    "name": "ipython",
    "version": 3
   },
   "file_extension": ".py",
   "mimetype": "text/x-python",
   "name": "python",
   "nbconvert_exporter": "python",
   "pygments_lexer": "ipython3",
   "version": "3.10.8"
  }
 },
 "nbformat": 4,
 "nbformat_minor": 2
}
